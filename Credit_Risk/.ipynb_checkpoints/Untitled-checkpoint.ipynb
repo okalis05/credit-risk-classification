{
 "cells": [
  {
   "cell_type": "markdown",
   "id": "d6daf486-ce40-4987-877c-c4f1e2ecefe1",
   "metadata": {},
   "source": [
    "# Credit Risk Classification report"
   ]
  },
  {
   "cell_type": "markdown",
   "id": "cec8a3f3-5c85-45a2-811d-8a728bbab45a",
   "metadata": {},
   "source": [
    "## Overview of the Analysis"
   ]
  },
  {
   "cell_type": "raw",
   "id": "9f3bceb9-c4fe-49ba-ba75-e41427a8ed1e",
   "metadata": {},
   "source": [
    "For this analysis, we were given a dataset composed of 8 columns and 77536 rows holding information about credit borrowers and we were tasked with predicting their credit worthiness or the outcome of each loan application .For that purpose, we created a  Logistic Regression model by completing the following tasks.\n",
    "- We started off  by reading the `lending_data.csv` into a pandas dataframe and acknowledged the existence of the following columns in the dataset.['loan_size','interest_rate','borrower_income','debt_to_income','num_of_accounts','derogatory_marks\t','total_debt','loan_status'].\n",
    "-With that knowledge , the next step was to predict the 'loan_status' for each applicant based on the following criterias. \n",
    "'loan_size','interest_rate','borrower_income','debt_to_income','num_of_accounts','derogatory_marks','total_debt'.Therefore the outcome 'loan_status' column became our label whereas the criterias columns were used as features. We separated both components of the dataframe and stored them in sapare variables. Ultimately, we aimed to determine whether the combination of features for each applicant scored a `0`or`1`  , effectively solving the equation y = aX+b where y=1 translated as (high-risk loan)application and y = 0 translated as (healthy loan) application.\n",
    "- Furthermore , we used the function `train_test_split` imported from the `sklearn.model_seletion' library to split each component of\n",
    "the data into 2 buckets. 'train' and 'test' at a random state of 1.\n",
    "-Then ,using the LogisticRegression algorithm imported from sklearn.linear_model, we instantiated a `logistic regression model' with the random_state of 1 and solver `lbfgs`which is a popular optimization algorithm , very efficient at handling large datasets like the one at hand and also helpful for dealing with many parameters as we did in this case study.\n",
    "-Finally , we fitted the model using the `X_train` and the `y_train` and made some predictions using the X_test splitted data ,then evaluated the model performance by generating a confusion matrix and printing a classification report using the `classification_report`  imported from the sklearn.metrics library.\n"
   ]
  },
  {
   "cell_type": "raw",
   "id": "84999999-3a43-4447-8b24-31553ffe5bd5",
   "metadata": {},
   "source": [
    "\n",
    "\n",
    "## Results"
   ]
  },
  {
   "cell_type": "code",
   "execution_count": null,
   "id": "2d79ad5f-4bb2-486d-9a10-6d0c026c8bf7",
   "metadata": {},
   "outputs": [],
   "source": [
    "Our dataset had 77536 rows. the confusion matrix returned an array of 19384 values ,representing about a quater of our dataset used to \n",
    "test the data.On the confusion matrix , we are looking at how many times the model predicted 0 where 0 was due and 1 where 1 was due and also how many times it\n",
    "how many times it confused the 0 for 1 and vice versa.We can see that it predicted 'healthy loan' correctly 18663 correctly and 'high risk loan' correctly  563 times out of the \n",
    "19384 times it ran through the testing dataset, leaving a margin of error of just 158 accross both components.This means that the accuracy of the model prediction sit at a whooping 99%.\n",
    "This is a very good score for our model.but a closer look at the data distribution accross both component shows that out of the 19384 values in our test data ,\n",
    "18765 represented the total of'healthy loan' versus '619' representing the 'high risk loan'.This means that we trained our model to recognised mostly healthy loan\n",
    "which is a bias because even if the model somehow marked 0 all the way down, it would have still scored a whooping  97% because that is the percentage\n",
    "of 'healthy loan' fed to our model."
   ]
  },
  {
   "cell_type": "raw",
   "id": "6ed52403-5dd0-41dd-a8aa-bcfe35d194cf",
   "metadata": {},
   "source": [
    "## Summary"
   ]
  },
  {
   "cell_type": "raw",
   "id": "57002875-d741-4963-bdbd-a785f821ccee",
   "metadata": {},
   "source": [
    "Overall I would say that supervised learning algorithms in general do a great job at predicting data ,but as for this case study , the risk of bias that comes with human input kind of make it subjective. that's the reason why i think that for total transparency using unsupervised machine learning algorithm like the kmeans or Birch models is preferred."
   ]
  },
  {
   "cell_type": "raw",
   "id": "b753c13a-38fb-4db5-8587-65a4cb614606",
   "metadata": {},
   "source": []
  },
  {
   "cell_type": "code",
   "execution_count": null,
   "id": "97fff93d-725a-4371-a39e-b8eb3ea3f3c8",
   "metadata": {},
   "outputs": [],
   "source": []
  },
  {
   "cell_type": "code",
   "execution_count": null,
   "id": "9ffa4821-d59c-4a99-b383-c09f1841f1ea",
   "metadata": {},
   "outputs": [],
   "source": []
  },
  {
   "cell_type": "markdown",
   "id": "e770405a-e38b-47d2-802a-724cf45052bc",
   "metadata": {},
   "source": [
    "## Results"
   ]
  },
  {
   "cell_type": "code",
   "execution_count": null,
   "id": "ded9d897-121d-4b2d-b9c1-f58132baa307",
   "metadata": {},
   "outputs": [],
   "source": []
  },
  {
   "cell_type": "code",
   "execution_count": null,
   "id": "0fbcc28b-7075-4a85-ab60-555c106c1b5a",
   "metadata": {},
   "outputs": [],
   "source": []
  },
  {
   "cell_type": "markdown",
   "id": "d8dde255-a65b-4df8-8698-a336f1aa14e6",
   "metadata": {},
   "source": []
  },
  {
   "cell_type": "code",
   "execution_count": null,
   "id": "ba5a32b7-a080-4be0-bf6e-a8872fbbe60f",
   "metadata": {},
   "outputs": [],
   "source": []
  }
 ],
 "metadata": {
  "kernelspec": {
   "display_name": "Python 3 (ipykernel)",
   "language": "python",
   "name": "python3"
  },
  "language_info": {
   "codemirror_mode": {
    "name": "ipython",
    "version": 3
   },
   "file_extension": ".py",
   "mimetype": "text/x-python",
   "name": "python",
   "nbconvert_exporter": "python",
   "pygments_lexer": "ipython3",
   "version": "3.11.7"
  }
 },
 "nbformat": 4,
 "nbformat_minor": 5
}
